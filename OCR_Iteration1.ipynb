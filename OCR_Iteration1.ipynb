{
 "cells": [
  {
   "cell_type": "code",
   "execution_count": 1,
   "id": "0b9a9db9",
   "metadata": {},
   "outputs": [
    {
     "name": "stdout",
     "output_type": "stream",
     "text": [
      "WARNING:tensorflow:From C:\\Users\\ASUS\\AppData\\Roaming\\Python\\Python310\\site-packages\\keras\\src\\losses.py:2976: The name tf.losses.sparse_softmax_cross_entropy is deprecated. Please use tf.compat.v1.losses.sparse_softmax_cross_entropy instead.\n",
      "\n"
     ]
    },
    {
     "name": "stderr",
     "output_type": "stream",
     "text": [
      "C:\\Users\\ASUS\\AppData\\Roaming\\Python\\Python310\\site-packages\\pandas\\core\\arrays\\masked.py:60: UserWarning: Pandas requires version '1.3.6' or newer of 'bottleneck' (version '1.3.5' currently installed).\n",
      "  from pandas.core import (\n"
     ]
    }
   ],
   "source": [
    "import tensorflow as tf\n",
    "import tensorflow.keras\n",
    "import matplotlib.pyplot as plt\n",
    "import seaborn as sns\n",
    "import cv2 as cv\n",
    "import pandas as pd\n",
    "import numpy as np"
   ]
  },
  {
   "cell_type": "code",
   "execution_count": 2,
   "id": "c5b47624",
   "metadata": {},
   "outputs": [],
   "source": [
    "df_num_train=pd.read_csv(r\"G:\\datasets\\MNIST_train.csv\")\n",
    "df_num_test=pd.read_csv(r\"G:\\datasets\\MNIST_test.csv\")"
   ]
  },
  {
   "cell_type": "code",
   "execution_count": 3,
   "id": "d9756bfd",
   "metadata": {},
   "outputs": [],
   "source": [
    "df_alp=pd.read_csv(r\"G:\\datasets\\A_Z Handwritten Data.csv\")"
   ]
  },
  {
   "cell_type": "code",
   "execution_count": 4,
   "id": "fdd4b711",
   "metadata": {},
   "outputs": [
    {
     "data": {
      "text/plain": [
       "(372450, 785)"
      ]
     },
     "execution_count": 4,
     "metadata": {},
     "output_type": "execute_result"
    }
   ],
   "source": [
    "df_alp.shape"
   ]
  },
  {
   "cell_type": "code",
   "execution_count": 5,
   "id": "ebfefcf6",
   "metadata": {},
   "outputs": [
    {
     "data": {
      "text/plain": [
       "(42000, 785)"
      ]
     },
     "execution_count": 5,
     "metadata": {},
     "output_type": "execute_result"
    }
   ],
   "source": [
    "df_num_train.shape"
   ]
  },
  {
   "cell_type": "code",
   "execution_count": 6,
   "id": "74de4ceb",
   "metadata": {},
   "outputs": [
    {
     "data": {
      "text/plain": [
       "(28000, 784)"
      ]
     },
     "execution_count": 6,
     "metadata": {},
     "output_type": "execute_result"
    }
   ],
   "source": [
    "df_num_test.shape"
   ]
  },
  {
   "cell_type": "code",
   "execution_count": 7,
   "id": "fb94dc1b",
   "metadata": {},
   "outputs": [
    {
     "data": {
      "text/plain": [
       "<matplotlib.image.AxesImage at 0x18cfccb3610>"
      ]
     },
     "execution_count": 7,
     "metadata": {},
     "output_type": "execute_result"
    },
    {
     "data": {
      "image/png": "[encoded data removed]",
      "text/plain": [
       "<Figure size 640x480 with 1 Axes>"
      ]
     },
     "metadata": {},
     "output_type": "display_data"
    }
   ],
   "source": [
    "plt.imshow(df_num_train.drop(columns='label').iloc[np.random.randint(0,len(df_num_train))].values.reshape(28,28))"
   ]
  },
  {
   "cell_type": "code",
   "execution_count": 8,
   "id": "3cf92264",
   "metadata": {},
   "outputs": [
    {
     "data": {
      "image/png": "[encoded data removed]",
      "text/plain": [
       "<Figure size 640x480 with 1 Axes>"
      ]
     },
     "metadata": {},
     "output_type": "display_data"
    }
   ],
   "source": [
    "ax=sns.countplot(x='label',data=df_num_train)\n",
    "for bars in ax.containers:\n",
    "    ax.bar_label(bars)"
   ]
  },
  {
   "cell_type": "code",
   "execution_count": 9,
   "id": "0aabb422",
   "metadata": {},
   "outputs": [
    {
     "data": {
      "text/html": [
       "<div>\n",
       "<style scoped>\n",
       "    .dataframe tbody tr th:only-of-type {\n",
       "        vertical-align: middle;\n",
       "    }\n",
       "\n",
       "    .dataframe tbody tr th {\n",
       "        vertical-align: top;\n",
       "    }\n",
       "\n",
       "    .dataframe thead th {\n",
       "        text-align: right;\n",
       "    }\n",
       "</style>\n",
       "<table border=\"1\" class=\"dataframe\">\n",
       "  <thead>\n",
       "    <tr style=\"text-align: right;\">\n",
       "      <th></th>\n",
       "      <th>0</th>\n",
       "      <th>0.1</th>\n",
       "      <th>0.2</th>\n",
       "      <th>0.3</th>\n",
       "      <th>0.4</th>\n",
       "      <th>0.5</th>\n",
       "      <th>0.6</th>\n",
       "      <th>0.7</th>\n",
       "      <th>0.8</th>\n",
       "      <th>0.9</th>\n",
       "      <th>...</th>\n",
       "      <th>0.639</th>\n",
       "      <th>0.640</th>\n",
       "      <th>0.641</th>\n",
       "      <th>0.642</th>\n",
       "      <th>0.643</th>\n",
       "      <th>0.644</th>\n",
       "      <th>0.645</th>\n",
       "      <th>0.646</th>\n",
       "      <th>0.647</th>\n",
       "      <th>0.648</th>\n",
       "    </tr>\n",
       "  </thead>\n",
       "  <tbody>\n",
       "    <tr>\n",
       "      <th>0</th>\n",
       "      <td>0</td>\n",
       "      <td>0</td>\n",
       "      <td>0</td>\n",
       "      <td>0</td>\n",
       "      <td>0</td>\n",
       "      <td>0</td>\n",
       "      <td>0</td>\n",
       "      <td>0</td>\n",
       "      <td>0</td>\n",
       "      <td>0</td>\n",
       "      <td>...</td>\n",
       "      <td>0</td>\n",
       "      <td>0</td>\n",
       "      <td>0</td>\n",
       "      <td>0</td>\n",
       "      <td>0</td>\n",
       "      <td>0</td>\n",
       "      <td>0</td>\n",
       "      <td>0</td>\n",
       "      <td>0</td>\n",
       "      <td>0</td>\n",
       "    </tr>\n",
       "  </tbody>\n",
       "</table>\n",
       "<p>1 rows × 785 columns</p>\n",
       "</div>"
      ],
      "text/plain": [
       "   0  0.1  0.2  0.3  0.4  0.5  0.6  0.7  0.8  0.9  ...  0.639  0.640  0.641  \\\n",
       "0  0    0    0    0    0    0    0    0    0    0  ...      0      0      0   \n",
       "\n",
       "   0.642  0.643  0.644  0.645  0.646  0.647  0.648  \n",
       "0      0      0      0      0      0      0      0  \n",
       "\n",
       "[1 rows x 785 columns]"
      ]
     },
     "execution_count": 9,
     "metadata": {},
     "output_type": "execute_result"
    }
   ],
   "source": [
    "df_alp.head(1)"
   ]
  },
  {
   "cell_type": "code",
   "execution_count": 10,
   "id": "c555227b",
   "metadata": {},
   "outputs": [],
   "source": [
    "data_alp=df_alp.drop('0',axis=1)\n",
    "labels_alp=df_alp['0']"
   ]
  },
  {
   "cell_type": "code",
   "execution_count": 11,
   "id": "674ecc50",
   "metadata": {},
   "outputs": [
    {
     "data": {
      "text/plain": [
       "(372450, 784)"
      ]
     },
     "execution_count": 11,
     "metadata": {},
     "output_type": "execute_result"
    }
   ],
   "source": [
    "data_alp.shape"
   ]
  },
  {
   "cell_type": "code",
   "execution_count": 12,
   "id": "cdad6704",
   "metadata": {},
   "outputs": [
    {
     "data": {
      "text/plain": [
       "<matplotlib.image.AxesImage at 0x18cfd160f70>"
      ]
     },
     "execution_count": 12,
     "metadata": {},
     "output_type": "execute_result"
    },
    {
     "data": {
      "image/png": "[encoded data removed]",
      "text/plain": [
       "<Figure size 640x480 with 1 Axes>"
      ]
     },
     "metadata": {},
     "output_type": "display_data"
    }
   ],
   "source": [
    "plt.imshow(data_alp.iloc[2].values.reshape(28,28))"
   ]
  },
  {
   "cell_type": "code",
   "execution_count": 13,
   "id": "d259e291",
   "metadata": {},
   "outputs": [
    {
     "data": {
      "image/png": "[encoded data removed]",
      "text/plain": [
       "<Figure size 640x480 with 1 Axes>"
      ]
     },
     "metadata": {},
     "output_type": "display_data"
    }
   ],
   "source": [
    "ax2=labels_alp.value_counts().plot(kind='bar',cmap='magma')\n",
    "for bars in ax2.containers:\n",
    "    ax2.bar_label(bars,rotation=90)"
   ]
  },
  {
   "cell_type": "code",
   "execution_count": 14,
   "id": "3507702e",
   "metadata": {},
   "outputs": [],
   "source": [
    "df_num_train_data=df_num_train.drop(columns='label')"
   ]
  },
  {
   "cell_type": "code",
   "execution_count": 15,
   "id": "77da0a9e",
   "metadata": {},
   "outputs": [],
   "source": [
    "df_num_train_label=df_num_train['label']"
   ]
  },
  {
   "cell_type": "code",
   "execution_count": 16,
   "id": "b9c1ee74",
   "metadata": {},
   "outputs": [],
   "source": [
    "df_alp_small=df_alp.sample(50000)"
   ]
  },
  {
   "cell_type": "code",
   "execution_count": 17,
   "id": "7b62e9af",
   "metadata": {},
   "outputs": [],
   "source": [
    "df_alp_data=df_alp_small.drop('0',axis=1)\n",
    "df_alp_label=df_alp_small['0']"
   ]
  },
  {
   "cell_type": "code",
   "execution_count": 18,
   "id": "c0ef4795",
   "metadata": {},
   "outputs": [
    {
     "data": {
      "text/plain": [
       "(50000, 784)"
      ]
     },
     "execution_count": 18,
     "metadata": {},
     "output_type": "execute_result"
    }
   ],
   "source": [
    "df_alp_data.shape"
   ]
  },
  {
   "cell_type": "code",
   "execution_count": 19,
   "id": "75e144e1",
   "metadata": {},
   "outputs": [
    {
     "data": {
      "text/plain": [
       "(50000,)"
      ]
     },
     "execution_count": 19,
     "metadata": {},
     "output_type": "execute_result"
    }
   ],
   "source": [
    "df_alp_label.shape"
   ]
  },
  {
   "cell_type": "code",
   "execution_count": 20,
   "id": "b984322d",
   "metadata": {},
   "outputs": [
    {
     "data": {
      "text/plain": [
       "<matplotlib.image.AxesImage at 0x18cfce450c0>"
      ]
     },
     "execution_count": 20,
     "metadata": {},
     "output_type": "execute_result"
    },
    {
     "data": {
      "image/png": "[encoded data removed]",
      "text/plain": [
       "<Figure size 640x480 with 1 Axes>"
      ]
     },
     "metadata": {},
     "output_type": "display_data"
    }
   ],
   "source": [
    "plt.imshow(df_alp_data.iloc[np.random.randint(0,40000)].values.reshape(28,28))"
   ]
  },
  {
   "cell_type": "code",
   "execution_count": 21,
   "id": "8e2d0223",
   "metadata": {},
   "outputs": [
    {
     "data": {
      "text/plain": [
       "<Axes: xlabel='0'>"
      ]
     },
     "execution_count": 21,
     "metadata": {},
     "output_type": "execute_result"
    },
    {
     "data": {
      "image/png": "[encoded data removed]",
      "text/plain": [
       "<Figure size 640x480 with 1 Axes>"
      ]
     },
     "metadata": {},
     "output_type": "display_data"
    }
   ],
   "source": [
    "df_alp_label.value_counts().plot(kind='bar',cmap='magma')"
   ]
  },
  {
   "cell_type": "code",
   "execution_count": 22,
   "id": "6b418db2",
   "metadata": {},
   "outputs": [],
   "source": [
    "df_num_train_data=np.array(df_num_train_data)\n",
    "df_num_train_label=np.array(df_num_train_label)"
   ]
  },
  {
   "cell_type": "code",
   "execution_count": 23,
   "id": "372afe42",
   "metadata": {},
   "outputs": [],
   "source": [
    "df_alp_data=np.array(df_alp_data)\n",
    "df_alp_label=np.array(df_alp_label)"
   ]
  },
  {
   "cell_type": "code",
   "execution_count": 24,
   "id": "68aff15a",
   "metadata": {},
   "outputs": [
    {
     "data": {
      "text/plain": [
       "(42000, 784)"
      ]
     },
     "execution_count": 24,
     "metadata": {},
     "output_type": "execute_result"
    }
   ],
   "source": [
    "df_num_train_data.shape"
   ]
  },
  {
   "cell_type": "code",
   "execution_count": 25,
   "id": "459ce9f5",
   "metadata": {},
   "outputs": [
    {
     "data": {
      "text/plain": [
       "(50000, 784)"
      ]
     },
     "execution_count": 25,
     "metadata": {},
     "output_type": "execute_result"
    }
   ],
   "source": [
    "df_alp_data.shape"
   ]
  },
  {
   "cell_type": "code",
   "execution_count": 26,
   "id": "b15f8db5",
   "metadata": {},
   "outputs": [],
   "source": [
    "data=np.vstack([df_num_train_data,df_alp_data])"
   ]
  },
  {
   "cell_type": "code",
   "execution_count": 27,
   "id": "1f5f8407",
   "metadata": {},
   "outputs": [],
   "source": [
    "df_alp_label=df_alp_label+10\n",
    "labels=np.hstack([df_num_train_label,df_alp_label])"
   ]
  },
  {
   "cell_type": "code",
   "execution_count": 28,
   "id": "88b6dda4",
   "metadata": {},
   "outputs": [
    {
     "data": {
      "text/plain": [
       "(92000,)"
      ]
     },
     "execution_count": 28,
     "metadata": {},
     "output_type": "execute_result"
    }
   ],
   "source": [
    "labels.shape"
   ]
  },
  {
   "cell_type": "code",
   "execution_count": 29,
   "id": "cf31501f",
   "metadata": {},
   "outputs": [
    {
     "data": {
      "text/plain": [
       "(92000, 784)"
      ]
     },
     "execution_count": 29,
     "metadata": {},
     "output_type": "execute_result"
    }
   ],
   "source": [
    "data.shape"
   ]
  },
  {
   "cell_type": "code",
   "execution_count": 30,
   "id": "d92d86e0",
   "metadata": {},
   "outputs": [],
   "source": [
    "data = np.reshape(data, (data.shape[0], 28, 28))"
   ]
  },
  {
   "cell_type": "code",
   "execution_count": 31,
   "id": "59a17f48",
   "metadata": {},
   "outputs": [
    {
     "data": {
      "text/plain": [
       "(92000, 28, 28)"
      ]
     },
     "execution_count": 31,
     "metadata": {},
     "output_type": "execute_result"
    }
   ],
   "source": [
    "data.shape"
   ]
  },
  {
   "cell_type": "code",
   "execution_count": 32,
   "id": "913b37ec",
   "metadata": {},
   "outputs": [
    {
     "data": {
      "text/plain": [
       "<matplotlib.image.AxesImage at 0x18cfd00aec0>"
      ]
     },
     "execution_count": 32,
     "metadata": {},
     "output_type": "execute_result"
    },
    {
     "data": {
      "image/png": "[encoded data removed]",
      "text/plain": [
       "<Figure size 640x480 with 1 Axes>"
      ]
     },
     "metadata": {},
     "output_type": "display_data"
    }
   ],
   "source": [
    "plt.imshow(data[5])"
   ]
  },
  {
   "cell_type": "code",
   "execution_count": 33,
   "id": "288d7745",
   "metadata": {},
   "outputs": [],
   "source": [
    "from collections import Counter"
   ]
  },
  {
   "cell_type": "code",
   "execution_count": 34,
   "id": "aaadf81c",
   "metadata": {},
   "outputs": [
    {
     "data": {
      "image/png": "[encoded data removed]",
      "text/plain": [
       "<Figure size 640x480 with 1 Axes>"
      ]
     },
     "metadata": {},
     "output_type": "display_data"
    }
   ],
   "source": [
    "x=Counter(labels)\n",
    "ax=plt.bar(x.keys(),x.values())\n",
    "plt.title('Labels vs Count')\n",
    "plt.xlabel('Label Number')\n",
    "plt.ylabel('Count')\n",
    "plt.show()"
   ]
  },
  {
   "cell_type": "code",
   "execution_count": 35,
   "id": "41eb5678",
   "metadata": {},
   "outputs": [
    {
     "data": {
      "text/plain": [
       "array([ 0,  1,  2,  3,  4,  5,  6,  7,  8,  9, 10, 11, 12, 13, 14, 15, 16,\n",
       "       17, 18, 19, 20, 21, 22, 23, 24, 25, 26, 27, 28, 29, 30, 31, 32, 33,\n",
       "       34, 35], dtype=int64)"
      ]
     },
     "execution_count": 35,
     "metadata": {},
     "output_type": "execute_result"
    }
   ],
   "source": [
    "np.unique(labels)"
   ]
  },
  {
   "cell_type": "code",
   "execution_count": 36,
   "id": "30d87d82",
   "metadata": {},
   "outputs": [],
   "source": [
    "data=data/255"
   ]
  },
  {
   "cell_type": "code",
   "execution_count": 37,
   "id": "8b5f7146",
   "metadata": {},
   "outputs": [
    {
     "data": {
      "text/plain": [
       "0.0"
      ]
     },
     "execution_count": 37,
     "metadata": {},
     "output_type": "execute_result"
    }
   ],
   "source": [
    "data.min()"
   ]
  },
  {
   "cell_type": "code",
   "execution_count": 38,
   "id": "f754314d",
   "metadata": {},
   "outputs": [
    {
     "data": {
      "text/plain": [
       "1.0"
      ]
     },
     "execution_count": 38,
     "metadata": {},
     "output_type": "execute_result"
    }
   ],
   "source": [
    "data.max()"
   ]
  },
  {
   "cell_type": "code",
   "execution_count": 39,
   "id": "eb50c838",
   "metadata": {},
   "outputs": [
    {
     "data": {
      "text/plain": [
       "36"
      ]
     },
     "execution_count": 39,
     "metadata": {},
     "output_type": "execute_result"
    }
   ],
   "source": [
    "len(np.unique(labels))"
   ]
  },
  {
   "cell_type": "code",
   "execution_count": 40,
   "id": "5c1b22c0",
   "metadata": {},
   "outputs": [],
   "source": [
    "from sklearn.preprocessing import LabelBinarizer"
   ]
  },
  {
   "cell_type": "code",
   "execution_count": 41,
   "id": "7ed8cdac",
   "metadata": {},
   "outputs": [],
   "source": [
    "l=LabelBinarizer()"
   ]
  },
  {
   "cell_type": "code",
   "execution_count": 42,
   "id": "7d4bd8a2",
   "metadata": {},
   "outputs": [],
   "source": [
    "labels=l.fit_transform(labels)"
   ]
  },
  {
   "cell_type": "code",
   "execution_count": 43,
   "id": "99d67423",
   "metadata": {},
   "outputs": [
    {
     "data": {
      "text/plain": [
       "(92000, 36)"
      ]
     },
     "execution_count": 43,
     "metadata": {},
     "output_type": "execute_result"
    }
   ],
   "source": [
    "labels.shape"
   ]
  },
  {
   "cell_type": "code",
   "execution_count": 44,
   "id": "cbe8aab4",
   "metadata": {},
   "outputs": [
    {
     "data": {
      "text/plain": [
       "array([1, 0, 0, 0, 0, 0, 0, 0, 0, 0, 0, 0, 0, 0, 0, 0, 0, 0, 0, 0, 0, 0,\n",
       "       0, 0, 0, 0, 0, 0, 0, 0, 0, 0, 0, 0, 0, 0])"
      ]
     },
     "execution_count": 44,
     "metadata": {},
     "output_type": "execute_result"
    }
   ],
   "source": [
    "labels[5]"
   ]
  },
  {
   "cell_type": "code",
   "execution_count": 45,
   "id": "622e8579",
   "metadata": {},
   "outputs": [
    {
     "data": {
      "text/plain": [
       "<matplotlib.image.AxesImage at 0x18ca31c81c0>"
      ]
     },
     "execution_count": 45,
     "metadata": {},
     "output_type": "execute_result"
    },
    {
     "data": {
      "image/png": "[encoded data removed]",
      "text/plain": [
       "<Figure size 640x480 with 1 Axes>"
      ]
     },
     "metadata": {},
     "output_type": "display_data"
    }
   ],
   "source": [
    "plt.imshow(data[5])"
   ]
  },
  {
   "cell_type": "code",
   "execution_count": 46,
   "id": "86f833ea",
   "metadata": {},
   "outputs": [
    {
     "data": {
      "text/plain": [
       "array([0, 0, 0, 0, 0, 0, 0, 0, 0, 0, 0, 0, 0, 0, 0, 0, 0, 0, 0, 0, 0, 0,\n",
       "       0, 0, 0, 0, 0, 0, 0, 0, 0, 0, 0, 1, 0, 0])"
      ]
     },
     "execution_count": 46,
     "metadata": {},
     "output_type": "execute_result"
    }
   ],
   "source": [
    "labels[45000]"
   ]
  },
  {
   "cell_type": "code",
   "execution_count": 47,
   "id": "b4e48f38",
   "metadata": {},
   "outputs": [
    {
     "data": {
      "text/plain": [
       "<matplotlib.image.AxesImage at 0x18ca31f9900>"
      ]
     },
     "execution_count": 47,
     "metadata": {},
     "output_type": "execute_result"
    },
    {
     "data": {
      "image/png": "[encoded data removed]",
      "text/plain": [
       "<Figure size 640x480 with 1 Axes>"
      ]
     },
     "metadata": {},
     "output_type": "display_data"
    }
   ],
   "source": [
    "plt.imshow(data[45000])"
   ]
  },
  {
   "cell_type": "code",
   "execution_count": 48,
   "id": "0ac90767",
   "metadata": {},
   "outputs": [],
   "source": [
    "classes=labels.sum(axis=0)"
   ]
  },
  {
   "cell_type": "code",
   "execution_count": 49,
   "id": "07e7a73a",
   "metadata": {},
   "outputs": [
    {
     "data": {
      "text/plain": [
       "array([4132, 4684, 4177, 4351, 4072, 3795, 4137, 4401, 4063, 4188, 1929,\n",
       "       1134, 3100, 1410, 1474,  150,  719, 1015,  159, 1093,  770, 1589,\n",
       "       1658, 2576, 7633, 2552,  808, 1570, 6621, 3056, 3890,  545, 1412,\n",
       "        869, 1449,  819])"
      ]
     },
     "execution_count": 49,
     "metadata": {},
     "output_type": "execute_result"
    }
   ],
   "source": [
    "classes"
   ]
  },
  {
   "cell_type": "code",
   "execution_count": 50,
   "id": "71d4f9d8",
   "metadata": {},
   "outputs": [
    {
     "data": {
      "text/plain": [
       "150"
      ]
     },
     "execution_count": 50,
     "metadata": {},
     "output_type": "execute_result"
    }
   ],
   "source": [
    "classes.min()"
   ]
  },
  {
   "cell_type": "code",
   "execution_count": 51,
   "id": "dfe8706b",
   "metadata": {},
   "outputs": [
    {
     "data": {
      "text/plain": [
       "7633"
      ]
     },
     "execution_count": 51,
     "metadata": {},
     "output_type": "execute_result"
    }
   ],
   "source": [
    "classes.max()"
   ]
  },
  {
   "cell_type": "code",
   "execution_count": 52,
   "id": "bb6526c5",
   "metadata": {},
   "outputs": [
    {
     "data": {
      "text/plain": [
       "<matplotlib.image.AxesImage at 0x18ca31d66e0>"
      ]
     },
     "execution_count": 52,
     "metadata": {},
     "output_type": "execute_result"
    },
    {
     "data": {
      "image/png": "[encoded data removed]",
      "text/plain": [
       "<Figure size 640x480 with 1 Axes>"
      ]
     },
     "metadata": {},
     "output_type": "display_data"
    }
   ],
   "source": [
    "plt.imshow(data[65000])"
   ]
  },
  {
   "cell_type": "code",
   "execution_count": 53,
   "id": "fb1705be",
   "metadata": {},
   "outputs": [
    {
     "data": {
      "text/plain": [
       "array([0, 0, 0, 0, 0, 0, 0, 0, 0, 0, 0, 0, 0, 0, 0, 0, 0, 0, 0, 0, 1, 0,\n",
       "       0, 0, 0, 0, 0, 0, 0, 0, 0, 0, 0, 0, 0, 0])"
      ]
     },
     "execution_count": 53,
     "metadata": {},
     "output_type": "execute_result"
    }
   ],
   "source": [
    "labels[65000]"
   ]
  },
  {
   "cell_type": "code",
   "execution_count": 54,
   "id": "d583f1e1",
   "metadata": {},
   "outputs": [],
   "source": [
    "classes_weights={}\n",
    "for i in range(0,len(classes)):\n",
    "    classes_weights[i]=classes.max()/classes[i]"
   ]
  },
  {
   "cell_type": "code",
   "execution_count": 55,
   "id": "1a98c2e6",
   "metadata": {},
   "outputs": [
    {
     "data": {
      "text/plain": [
       "{0: 1.8472894482090998,\n",
       " 1: 1.6295900939368062,\n",
       " 2: 1.8273880775676323,\n",
       " 3: 1.754309354171455,\n",
       " 4: 1.8745088408644401,\n",
       " 5: 2.01133069828722,\n",
       " 6: 1.8450568044476674,\n",
       " 7: 1.7343785503294706,\n",
       " 8: 1.8786610878661087,\n",
       " 9: 1.822588347659981,\n",
       " 10: 3.9569725246241574,\n",
       " 11: 6.731040564373898,\n",
       " 12: 2.462258064516129,\n",
       " 13: 5.4134751773049645,\n",
       " 14: 5.17842605156038,\n",
       " 15: 50.88666666666666,\n",
       " 16: 10.616133518776078,\n",
       " 17: 7.520197044334975,\n",
       " 18: 48.0062893081761,\n",
       " 19: 6.983531564501372,\n",
       " 20: 9.912987012987013,\n",
       " 21: 4.803650094398993,\n",
       " 22: 4.603739445114596,\n",
       " 23: 2.963121118012422,\n",
       " 24: 1.0,\n",
       " 25: 2.990987460815047,\n",
       " 26: 9.446782178217822,\n",
       " 27: 4.861783439490446,\n",
       " 28: 1.1528470019634496,\n",
       " 29: 2.49770942408377,\n",
       " 30: 1.9622107969151672,\n",
       " 31: 14.005504587155963,\n",
       " 32: 5.4058073654390935,\n",
       " 33: 8.783659378596088,\n",
       " 34: 5.267770876466528,\n",
       " 35: 9.31990231990232}"
      ]
     },
     "execution_count": 55,
     "metadata": {},
     "output_type": "execute_result"
    }
   ],
   "source": [
    "classes_weights"
   ]
  },
  {
   "cell_type": "code",
   "execution_count": 56,
   "id": "fc73ee63",
   "metadata": {},
   "outputs": [],
   "source": [
    "from tensorflow.keras.preprocessing.image import ImageDataGenerator"
   ]
  },
  {
   "cell_type": "code",
   "execution_count": 57,
   "id": "62b72619",
   "metadata": {},
   "outputs": [],
   "source": [
    "aug=ImageDataGenerator(rotation_range=15,zoom_range=0.1,width_shift_range=0.1,height_shift_range=0.1,horizontal_flip=False,validation_split=0.2)"
   ]
  },
  {
   "cell_type": "code",
   "execution_count": 58,
   "id": "0ccf78e0",
   "metadata": {},
   "outputs": [],
   "source": [
    "from tensorflow.keras.models import Sequential\n",
    "from tensorflow.keras.layers import Dense,Conv2D,MaxPooling2D,Flatten,BatchNormalization,Dropout\n",
    "from tensorflow.keras.callbacks import EarlyStopping,ReduceLROnPlateau,ModelCheckpoint"
   ]
  },
  {
   "cell_type": "code",
   "execution_count": 59,
   "id": "25af7415",
   "metadata": {},
   "outputs": [
    {
     "name": "stdout",
     "output_type": "stream",
     "text": [
      "WARNING:tensorflow:From C:\\Users\\ASUS\\AppData\\Roaming\\Python\\Python310\\site-packages\\keras\\src\\backend.py:873: The name tf.get_default_graph is deprecated. Please use tf.compat.v1.get_default_graph instead.\n",
      "\n",
      "WARNING:tensorflow:From C:\\Users\\ASUS\\AppData\\Roaming\\Python\\Python310\\site-packages\\keras\\src\\layers\\pooling\\max_pooling2d.py:161: The name tf.nn.max_pool is deprecated. Please use tf.nn.max_pool2d instead.\n",
      "\n"
     ]
    }
   ],
   "source": [
    "model=Sequential()\n",
    "\n",
    "model.add(Conv2D(64,(3,3),activation='relu',input_shape=(28,28,1),padding='same'))\n",
    "model.add(Conv2D(128,(3,3),activation='relu',padding='same'))\n",
    "model.add(MaxPooling2D(pool_size=(2,2)))\n",
    "model.add(BatchNormalization())\n",
    "\n",
    "model.add(Conv2D(256,(3,3),activation='relu',padding='same'))\n",
    "model.add(Conv2D(256,(3,3),activation='relu'))\n",
    "model.add(MaxPooling2D(pool_size=(2,2),strides=2))\n",
    "model.add(BatchNormalization())\n",
    "\n",
    "model.add(Conv2D(512,(3,3),activation='relu'))\n",
    "model.add(MaxPooling2D(pool_size=(2,2)))\n",
    "model.add(BatchNormalization())\n",
    "\n",
    "model.add(Flatten())\n",
    "model.add(Dense(1024,activation='relu'))\n",
    "model.add(Dense(1024,activation='relu'))\n",
    "model.add(Dense(36,activation='softmax'))"
   ]
  },
  {
   "cell_type": "code",
   "execution_count": 60,
   "id": "580aece2",
   "metadata": {},
   "outputs": [
    {
     "name": "stdout",
     "output_type": "stream",
     "text": [
      "Model: \"sequential\"\n",
      "_________________________________________________________________\n",
      " Layer (type)                Output Shape              Param #   \n",
      "=================================================================\n",
      " conv2d (Conv2D)             (None, 28, 28, 64)        640       \n",
      "                                                                 \n",
      " conv2d_1 (Conv2D)           (None, 28, 28, 128)       73856     \n",
      "                                                                 \n",
      " max_pooling2d (MaxPooling2  (None, 14, 14, 128)       0         \n",
      " D)                                                              \n",
      "                                                                 \n",
      " batch_normalization (Batch  (None, 14, 14, 128)       512       \n",
      " Normalization)                                                  \n",
      "                                                                 \n",
      " conv2d_2 (Conv2D)           (None, 14, 14, 256)       295168    \n",
      "                                                                 \n",
      " conv2d_3 (Conv2D)           (None, 12, 12, 256)       590080    \n",
      "                                                                 \n",
      " max_pooling2d_1 (MaxPoolin  (None, 6, 6, 256)         0         \n",
      " g2D)                                                            \n",
      "                                                                 \n",
      " batch_normalization_1 (Bat  (None, 6, 6, 256)         1024      \n",
      " chNormalization)                                                \n",
      "                                                                 \n",
      " conv2d_4 (Conv2D)           (None, 4, 4, 512)         1180160   \n",
      "                                                                 \n",
      " max_pooling2d_2 (MaxPoolin  (None, 2, 2, 512)         0         \n",
      " g2D)                                                            \n",
      "                                                                 \n",
      " batch_normalization_2 (Bat  (None, 2, 2, 512)         2048      \n",
      " chNormalization)                                                \n",
      "                                                                 \n",
      " flatten (Flatten)           (None, 2048)              0         \n",
      "                                                                 \n",
      " dense (Dense)               (None, 1024)              2098176   \n",
      "                                                                 \n",
      " dense_1 (Dense)             (None, 1024)              1049600   \n",
      "                                                                 \n",
      " dense_2 (Dense)             (None, 36)                36900     \n",
      "                                                                 \n",
      "=================================================================\n",
      "Total params: 5328164 (20.33 MB)\n",
      "Trainable params: 5326372 (20.32 MB)\n",
      "Non-trainable params: 1792 (7.00 KB)\n",
      "_________________________________________________________________\n"
     ]
    }
   ],
   "source": [
    "model.summary()"
   ]
  },
  {
   "cell_type": "code",
   "execution_count": 61,
   "id": "adb211a5",
   "metadata": {},
   "outputs": [],
   "source": [
    "es=EarlyStopping(patience=7,min_delta=0,restore_best_weights=True,monitor='val_loss')"
   ]
  },
  {
   "cell_type": "code",
   "execution_count": 62,
   "id": "619a3bde",
   "metadata": {},
   "outputs": [],
   "source": [
    "lr=ReduceLROnPlateau(patience=7,factor=0.2,min_deta=0,monitor='val_loss')"
   ]
  },
  {
   "cell_type": "code",
   "execution_count": 63,
   "id": "61bc1fe1",
   "metadata": {},
   "outputs": [],
   "source": [
    "m='custom_ocr.model'\n",
    "folder_path='E:\\OCR_MODEL'\n",
    "import os\n",
    "path=os.path.join(folder_path,m)\n",
    "cp=ModelCheckpoint(filepath=path,monitor='val_loss',save_best_only=True,mode='min')"
   ]
  },
  {
   "cell_type": "code",
   "execution_count": 64,
   "id": "638014b2",
   "metadata": {},
   "outputs": [],
   "source": [
    "cb=[cp,es,lr]"
   ]
  },
  {
   "cell_type": "code",
   "execution_count": 65,
   "id": "4c8a012f",
   "metadata": {},
   "outputs": [
    {
     "name": "stdout",
     "output_type": "stream",
     "text": [
      "WARNING:tensorflow:From C:\\Users\\ASUS\\AppData\\Roaming\\Python\\Python310\\site-packages\\keras\\src\\optimizers\\__init__.py:309: The name tf.train.Optimizer is deprecated. Please use tf.compat.v1.train.Optimizer instead.\n",
      "\n"
     ]
    }
   ],
   "source": [
    "model.compile(loss='categorical_crossentropy',optimizer='adam',metrics=['accuracy'])"
   ]
  },
  {
   "cell_type": "code",
   "execution_count": 66,
   "id": "805a7b22",
   "metadata": {},
   "outputs": [],
   "source": [
    "batch_size=32\n",
    "epochs=100"
   ]
  },
  {
   "cell_type": "code",
   "execution_count": 67,
   "id": "8d22416e",
   "metadata": {},
   "outputs": [],
   "source": [
    "data=np.expand_dims(data,axis=-1)"
   ]
  },
  {
   "cell_type": "code",
   "execution_count": 68,
   "id": "af991e76",
   "metadata": {},
   "outputs": [
    {
     "data": {
      "text/plain": [
       "(92000, 28, 28, 1)"
      ]
     },
     "execution_count": 68,
     "metadata": {},
     "output_type": "execute_result"
    }
   ],
   "source": [
    "data.shape"
   ]
  },
  {
   "cell_type": "code",
   "execution_count": 69,
   "id": "864195d8",
   "metadata": {},
   "outputs": [],
   "source": [
    "training_data=aug.flow(data,labels,batch_size=32,subset='training')\n",
    "testing_data=aug.flow(data,labels,batch_size=32,subset='validation')"
   ]
  },
  {
   "cell_type": "code",
   "execution_count": 70,
   "id": "54dea442",
   "metadata": {},
   "outputs": [
    {
     "data": {
      "text/plain": [
       "<keras.src.preprocessing.image.NumpyArrayIterator at 0x18c808a47c0>"
      ]
     },
     "execution_count": 70,
     "metadata": {},
     "output_type": "execute_result"
    }
   ],
   "source": [
    "training_data"
   ]
  },
  {
   "cell_type": "code",
   "execution_count": 71,
   "id": "df73a4a6",
   "metadata": {},
   "outputs": [
    {
     "name": "stdout",
     "output_type": "stream",
     "text": [
      "Epoch 1/10\n",
      "WARNING:tensorflow:From C:\\Users\\ASUS\\AppData\\Roaming\\Python\\Python310\\site-packages\\keras\\src\\utils\\tf_utils.py:492: The name tf.ragged.RaggedTensorValue is deprecated. Please use tf.compat.v1.ragged.RaggedTensorValue instead.\n",
      "\n",
      "WARNING:tensorflow:From C:\\Users\\ASUS\\AppData\\Roaming\\Python\\Python310\\site-packages\\keras\\src\\engine\\base_layer_utils.py:384: The name tf.executing_eagerly_outside_functions is deprecated. Please use tf.compat.v1.executing_eagerly_outside_functions instead.\n",
      "\n",
      "2300/2300 [==============================] - ETA: 0s - loss: 2.3797 - accuracy: 0.7728INFO:tensorflow:Assets written to: E:\\OCR_MODEL\\custom_ocr.model\\assets\n"
     ]
    },
    {
     "name": "stderr",
     "output_type": "stream",
     "text": [
      "INFO:tensorflow:Assets written to: E:\\OCR_MODEL\\custom_ocr.model\\assets\n"
     ]
    },
    {
     "name": "stdout",
     "output_type": "stream",
     "text": [
      "2300/2300 [==============================] - 335s 145ms/step - loss: 2.3797 - accuracy: 0.7728 - val_loss: 2.0414 - val_accuracy: 0.5418 - lr: 0.0010\n",
      "Epoch 2/10\n",
      "2300/2300 [==============================] - ETA: 0s - loss: 1.1849 - accuracy: 0.8695INFO:tensorflow:Assets written to: E:\\OCR_MODEL\\custom_ocr.model\\assets\n"
     ]
    },
    {
     "name": "stderr",
     "output_type": "stream",
     "text": [
      "INFO:tensorflow:Assets written to: E:\\OCR_MODEL\\custom_ocr.model\\assets\n"
     ]
    },
    {
     "name": "stdout",
     "output_type": "stream",
     "text": [
      "2300/2300 [==============================] - 344s 149ms/step - loss: 1.1849 - accuracy: 0.8695 - val_loss: 0.8951 - val_accuracy: 0.6917 - lr: 0.0010\n",
      "Epoch 3/10\n",
      "2300/2300 [==============================] - ETA: 0s - loss: 0.9456 - accuracy: 0.8888INFO:tensorflow:Assets written to: E:\\OCR_MODEL\\custom_ocr.model\\assets\n"
     ]
    },
    {
     "name": "stderr",
     "output_type": "stream",
     "text": [
      "INFO:tensorflow:Assets written to: E:\\OCR_MODEL\\custom_ocr.model\\assets\n"
     ]
    },
    {
     "name": "stdout",
     "output_type": "stream",
     "text": [
      "2300/2300 [==============================] - 346s 151ms/step - loss: 0.9456 - accuracy: 0.8888 - val_loss: 0.4388 - val_accuracy: 0.8728 - lr: 0.0010\n",
      "Epoch 4/10\n",
      "2300/2300 [==============================] - 351s 153ms/step - loss: 0.9346 - accuracy: 0.8939 - val_loss: 0.4592 - val_accuracy: 0.8390 - lr: 0.0010\n",
      "Epoch 5/10\n",
      "2300/2300 [==============================] - ETA: 0s - loss: 0.7966 - accuracy: 0.9036INFO:tensorflow:Assets written to: E:\\OCR_MODEL\\custom_ocr.model\\assets\n"
     ]
    },
    {
     "name": "stderr",
     "output_type": "stream",
     "text": [
      "INFO:tensorflow:Assets written to: E:\\OCR_MODEL\\custom_ocr.model\\assets\n"
     ]
    },
    {
     "name": "stdout",
     "output_type": "stream",
     "text": [
      "2300/2300 [==============================] - 345s 150ms/step - loss: 0.7966 - accuracy: 0.9036 - val_loss: 0.4172 - val_accuracy: 0.8635 - lr: 0.0010\n",
      "Epoch 6/10\n",
      "2300/2300 [==============================] - ETA: 0s - loss: 0.8391 - accuracy: 0.9038INFO:tensorflow:Assets written to: E:\\OCR_MODEL\\custom_ocr.model\\assets\n"
     ]
    },
    {
     "name": "stderr",
     "output_type": "stream",
     "text": [
      "INFO:tensorflow:Assets written to: E:\\OCR_MODEL\\custom_ocr.model\\assets\n"
     ]
    },
    {
     "name": "stdout",
     "output_type": "stream",
     "text": [
      "2300/2300 [==============================] - 355s 154ms/step - loss: 0.8391 - accuracy: 0.9038 - val_loss: 0.4089 - val_accuracy: 0.9011 - lr: 0.0010\n",
      "Epoch 7/10\n",
      "2300/2300 [==============================] - ETA: 0s - loss: 0.6705 - accuracy: 0.9133INFO:tensorflow:Assets written to: E:\\OCR_MODEL\\custom_ocr.model\\assets\n"
     ]
    },
    {
     "name": "stderr",
     "output_type": "stream",
     "text": [
      "INFO:tensorflow:Assets written to: E:\\OCR_MODEL\\custom_ocr.model\\assets\n"
     ]
    },
    {
     "name": "stdout",
     "output_type": "stream",
     "text": [
      "2300/2300 [==============================] - 354s 154ms/step - loss: 0.6705 - accuracy: 0.9133 - val_loss: 0.3077 - val_accuracy: 0.9017 - lr: 0.0010\n",
      "Epoch 8/10\n",
      "2300/2300 [==============================] - 374s 163ms/step - loss: 0.6150 - accuracy: 0.9173 - val_loss: 0.3346 - val_accuracy: 0.8857 - lr: 0.0010\n",
      "Epoch 9/10\n",
      "2300/2300 [==============================] - 343s 149ms/step - loss: 0.6185 - accuracy: 0.9188 - val_loss: 0.3522 - val_accuracy: 0.8544 - lr: 0.0010\n",
      "Epoch 10/10\n",
      "2300/2300 [==============================] - ETA: 0s - loss: 0.5481 - accuracy: 0.9213INFO:tensorflow:Assets written to: E:\\OCR_MODEL\\custom_ocr.model\\assets\n"
     ]
    },
    {
     "name": "stderr",
     "output_type": "stream",
     "text": [
      "INFO:tensorflow:Assets written to: E:\\OCR_MODEL\\custom_ocr.model\\assets\n"
     ]
    },
    {
     "name": "stdout",
     "output_type": "stream",
     "text": [
      "2300/2300 [==============================] - 347s 151ms/step - loss: 0.5481 - accuracy: 0.9213 - val_loss: 0.2378 - val_accuracy: 0.9160 - lr: 0.0010\n"
     ]
    }
   ],
   "source": [
    "history=model.fit(training_data,validation_data=testing_data,epochs=10,batch_size=32,callbacks=cb,class_weight=classes_weights)"
   ]
  },
  {
   "cell_type": "code",
   "execution_count": 73,
   "id": "16ff3413",
   "metadata": {},
   "outputs": [
    {
     "data": {
      "image/png": "[encoded data removed]",
      "text/plain": [
       "<Figure size 640x480 with 1 Axes>"
      ]
     },
     "metadata": {},
     "output_type": "display_data"
    }
   ],
   "source": [
    "plt.plot(history.history['loss'],label='training')\n",
    "plt.plot(history.history['val_loss'],label='testing')\n",
    "plt.title('Loss vs Epochs')\n",
    "plt.xlabel('Epochs')\n",
    "plt.ylabel('Loss')\n",
    "plt.legend()\n",
    "plt.show()"
   ]
  },
  {
   "cell_type": "code",
   "execution_count": 74,
   "id": "07fe9c81",
   "metadata": {},
   "outputs": [
    {
     "data": {
      "image/png": "[encoded data removed]",
      "text/plain": [
       "<Figure size 640x480 with 1 Axes>"
      ]
     },
     "metadata": {},
     "output_type": "display_data"
    }
   ],
   "source": [
    "plt.plot(history.history['accuracy'],label='training')\n",
    "plt.plot(history.history['val_accuracy'],label='testing')\n",
    "plt.title('Accuracy vs Epcohs')\n",
    "plt.xlabel('Epochs')\n",
    "plt.ylabel('Accuracy')\n",
    "plt.legend()\n",
    "plt.show()"
   ]
  },
  {
   "cell_type": "markdown",
   "id": "99e3ae32",
   "metadata": {},
   "source": [
    "Generating Testing Data"
   ]
  },
  {
   "cell_type": "code",
   "execution_count": 75,
   "id": "18c499f8",
   "metadata": {},
   "outputs": [],
   "source": [
    "nums=df_num_train.sample(500)"
   ]
  },
  {
   "cell_type": "code",
   "execution_count": 76,
   "id": "2779968e",
   "metadata": {},
   "outputs": [],
   "source": [
    "alps=df_alp.sample(500)"
   ]
  },
  {
   "cell_type": "code",
   "execution_count": 77,
   "id": "a895162f",
   "metadata": {},
   "outputs": [],
   "source": [
    "df1=nums.drop(columns='label')\n",
    "df2=alps.drop('0',axis=1)"
   ]
  },
  {
   "cell_type": "code",
   "execution_count": 78,
   "id": "45b40110",
   "metadata": {},
   "outputs": [],
   "source": [
    "label1=nums['label']\n",
    "label2=alps['0']"
   ]
  },
  {
   "cell_type": "code",
   "execution_count": 85,
   "id": "d27e8080",
   "metadata": {},
   "outputs": [],
   "source": [
    "df1=np.array(df1)\n",
    "df2=np.array(df2)\n",
    "label1=np.array(label1)\n",
    "label2=np.array(label2)\n",
    "test_data=np.vstack([df1,df2])\n",
    "test_label=np.hstack([label1,label2])"
   ]
  },
  {
   "cell_type": "code",
   "execution_count": 86,
   "id": "0d254a29",
   "metadata": {},
   "outputs": [],
   "source": [
    "test_data=test_data/255"
   ]
  },
  {
   "cell_type": "code",
   "execution_count": 87,
   "id": "80efae99",
   "metadata": {},
   "outputs": [
    {
     "data": {
      "text/plain": [
       "0.0"
      ]
     },
     "execution_count": 87,
     "metadata": {},
     "output_type": "execute_result"
    }
   ],
   "source": [
    "test_data.min()"
   ]
  },
  {
   "cell_type": "code",
   "execution_count": 88,
   "id": "687d6cca",
   "metadata": {},
   "outputs": [
    {
     "data": {
      "text/plain": [
       "1.0"
      ]
     },
     "execution_count": 88,
     "metadata": {},
     "output_type": "execute_result"
    }
   ],
   "source": [
    "test_data.max()"
   ]
  },
  {
   "cell_type": "code",
   "execution_count": 91,
   "id": "927ced30",
   "metadata": {},
   "outputs": [
    {
     "data": {
      "text/plain": [
       "(1000, 784)"
      ]
     },
     "execution_count": 91,
     "metadata": {},
     "output_type": "execute_result"
    }
   ],
   "source": [
    "test_data.shape"
   ]
  },
  {
   "cell_type": "code",
   "execution_count": 93,
   "id": "c88a126e",
   "metadata": {},
   "outputs": [],
   "source": [
    "test_data=np.reshape(test_data,(test_data.shape[0],28,28))"
   ]
  },
  {
   "cell_type": "code",
   "execution_count": 94,
   "id": "5c2b225a",
   "metadata": {},
   "outputs": [],
   "source": [
    "test_data=np.expand_dims(test_data,axis=-1)"
   ]
  },
  {
   "cell_type": "code",
   "execution_count": 95,
   "id": "2cb3db08",
   "metadata": {},
   "outputs": [
    {
     "data": {
      "text/plain": [
       "(1000, 28, 28, 1)"
      ]
     },
     "execution_count": 95,
     "metadata": {},
     "output_type": "execute_result"
    }
   ],
   "source": [
    "test_data.shape"
   ]
  },
  {
   "cell_type": "code",
   "execution_count": 96,
   "id": "bb2bd650",
   "metadata": {},
   "outputs": [],
   "source": [
    "aug_test=ImageDataGenerator()"
   ]
  },
  {
   "cell_type": "code",
   "execution_count": 97,
   "id": "02d16fc5",
   "metadata": {},
   "outputs": [],
   "source": [
    "testing_data=aug_test.flow(test_data,test_label,batch_size=32)"
   ]
  },
  {
   "cell_type": "code",
   "execution_count": 102,
   "id": "f89c447c",
   "metadata": {},
   "outputs": [
    {
     "name": "stdout",
     "output_type": "stream",
     "text": [
      "32/32 [==============================] - 1s 34ms/step\n"
     ]
    }
   ],
   "source": [
    "y_pred=np.argmax(model.predict(test_data,batch_size=32))"
   ]
  },
  {
   "cell_type": "code",
   "execution_count": 103,
   "id": "865de9cc",
   "metadata": {},
   "outputs": [
    {
     "data": {
      "text/plain": [
       "()"
      ]
     },
     "execution_count": 103,
     "metadata": {},
     "output_type": "execute_result"
    }
   ],
   "source": [
    "y_pred.shape"
   ]
  },
  {
   "cell_type": "code",
   "execution_count": 105,
   "id": "a9e575b4",
   "metadata": {},
   "outputs": [],
   "source": [
    "from sklearn.metrics import classification_report"
   ]
  },
  {
   "cell_type": "code",
   "execution_count": 107,
   "id": "3a90b1f0",
   "metadata": {},
   "outputs": [
    {
     "data": {
      "text/plain": [
       "(1000,)"
      ]
     },
     "execution_count": 107,
     "metadata": {},
     "output_type": "execute_result"
    }
   ],
   "source": [
    "test_label.shape"
   ]
  },
  {
   "cell_type": "code",
   "execution_count": 108,
   "id": "6ef9249f",
   "metadata": {},
   "outputs": [
    {
     "name": "stderr",
     "output_type": "stream",
     "text": [
      "C:\\Users\\ASUS\\AppData\\Roaming\\Python\\Python310\\site-packages\\keras\\src\\engine\\training.py:3103: UserWarning: You are saving your model as an HDF5 file via `model.save()`. This file format is considered legacy. We recommend using instead the native Keras format, e.g. `model.save('my_model.keras')`.\n",
      "  saving_api.save_model(\n"
     ]
    }
   ],
   "source": [
    "saving_path='E:\\OCR_MODEL\\model'\n",
    "file_name='my_ocr_model.h5'\n",
    "path=os.path.join(saving_path,file_name)\n",
    "model.save(path)"
   ]
  },
  {
   "cell_type": "code",
   "execution_count": 109,
   "id": "950c0c13",
   "metadata": {},
   "outputs": [],
   "source": [
    "from tensorflow.keras.models import load_model\n",
    "ocr=load_model(path)"
   ]
  },
  {
   "cell_type": "code",
   "execution_count": 110,
   "id": "7efc892c",
   "metadata": {},
   "outputs": [
    {
     "name": "stdout",
     "output_type": "stream",
     "text": [
      "Model: \"sequential\"\n",
      "_________________________________________________________________\n",
      " Layer (type)                Output Shape              Param #   \n",
      "=================================================================\n",
      " conv2d (Conv2D)             (None, 28, 28, 64)        640       \n",
      "                                                                 \n",
      " conv2d_1 (Conv2D)           (None, 28, 28, 128)       73856     \n",
      "                                                                 \n",
      " max_pooling2d (MaxPooling2  (None, 14, 14, 128)       0         \n",
      " D)                                                              \n",
      "                                                                 \n",
      " batch_normalization (Batch  (None, 14, 14, 128)       512       \n",
      " Normalization)                                                  \n",
      "                                                                 \n",
      " conv2d_2 (Conv2D)           (None, 14, 14, 256)       295168    \n",
      "                                                                 \n",
      " conv2d_3 (Conv2D)           (None, 12, 12, 256)       590080    \n",
      "                                                                 \n",
      " max_pooling2d_1 (MaxPoolin  (None, 6, 6, 256)         0         \n",
      " g2D)                                                            \n",
      "                                                                 \n",
      " batch_normalization_1 (Bat  (None, 6, 6, 256)         1024      \n",
      " chNormalization)                                                \n",
      "                                                                 \n",
      " conv2d_4 (Conv2D)           (None, 4, 4, 512)         1180160   \n",
      "                                                                 \n",
      " max_pooling2d_2 (MaxPoolin  (None, 2, 2, 512)         0         \n",
      " g2D)                                                            \n",
      "                                                                 \n",
      " batch_normalization_2 (Bat  (None, 2, 2, 512)         2048      \n",
      " chNormalization)                                                \n",
      "                                                                 \n",
      " flatten (Flatten)           (None, 2048)              0         \n",
      "                                                                 \n",
      " dense (Dense)               (None, 1024)              2098176   \n",
      "                                                                 \n",
      " dense_1 (Dense)             (None, 1024)              1049600   \n",
      "                                                                 \n",
      " dense_2 (Dense)             (None, 36)                36900     \n",
      "                                                                 \n",
      "=================================================================\n",
      "Total params: 5328164 (20.33 MB)\n",
      "Trainable params: 5326372 (20.32 MB)\n",
      "Non-trainable params: 1792 (7.00 KB)\n",
      "_________________________________________________________________\n"
     ]
    }
   ],
   "source": [
    "ocr.summary()"
   ]
  },
  {
   "cell_type": "code",
   "execution_count": 111,
   "id": "76d4df1c",
   "metadata": {},
   "outputs": [],
   "source": [
    "img=cv.imread(r\"E:\\Courses\\Optical Character Recognition\\Images\\letter-m.jpg\")"
   ]
  },
  {
   "cell_type": "code",
   "execution_count": 112,
   "id": "35529d0f",
   "metadata": {},
   "outputs": [],
   "source": [
    "img=cv.cvtColor(img,cv.COLOR_BGR2GRAY)"
   ]
  },
  {
   "cell_type": "code",
   "execution_count": 113,
   "id": "cccbe121",
   "metadata": {},
   "outputs": [
    {
     "data": {
      "text/plain": [
       "(30, 30)"
      ]
     },
     "execution_count": 113,
     "metadata": {},
     "output_type": "execute_result"
    }
   ],
   "source": [
    "img.shape"
   ]
  },
  {
   "cell_type": "code",
   "execution_count": 114,
   "id": "6f42c56b",
   "metadata": {},
   "outputs": [
    {
     "data": {
      "text/plain": [
       "<matplotlib.image.AxesImage at 0x18df26b4f40>"
      ]
     },
     "execution_count": 114,
     "metadata": {},
     "output_type": "execute_result"
    },
    {
     "data": {
      "image/png": "[encoded data removed]",
      "text/plain": [
       "<Figure size 640x480 with 1 Axes>"
      ]
     },
     "metadata": {},
     "output_type": "display_data"
    }
   ],
   "source": [
    "plt.imshow(img,cmap='gray')"
   ]
  },
  {
   "cell_type": "code",
   "execution_count": 120,
   "id": "4afaec21",
   "metadata": {},
   "outputs": [],
   "source": [
    "threshold,thresh=cv.threshold(img,0,255,cv.THRESH_BINARY_INV|cv.THRESH_OTSU)"
   ]
  },
  {
   "cell_type": "code",
   "execution_count": 121,
   "id": "1020fbcd",
   "metadata": {},
   "outputs": [
    {
     "data": {
      "text/plain": [
       "137.0"
      ]
     },
     "execution_count": 121,
     "metadata": {},
     "output_type": "execute_result"
    }
   ],
   "source": [
    "threshold"
   ]
  },
  {
   "cell_type": "code",
   "execution_count": 122,
   "id": "5184cb6f",
   "metadata": {},
   "outputs": [
    {
     "data": {
      "text/plain": [
       "<matplotlib.image.AxesImage at 0x18e87b7cbb0>"
      ]
     },
     "execution_count": 122,
     "metadata": {},
     "output_type": "execute_result"
    },
    {
     "data": {
      "image/png": "[encoded data removed]",
      "text/plain": [
       "<Figure size 640x480 with 1 Axes>"
      ]
     },
     "metadata": {},
     "output_type": "display_data"
    }
   ],
   "source": [
    "plt.imshow(thresh,cmap='gray')"
   ]
  },
  {
   "cell_type": "code",
   "execution_count": 123,
   "id": "ac2112f6",
   "metadata": {},
   "outputs": [
    {
     "data": {
      "text/plain": [
       "(30, 30)"
      ]
     },
     "execution_count": 123,
     "metadata": {},
     "output_type": "execute_result"
    }
   ],
   "source": [
    "thresh.shape"
   ]
  },
  {
   "cell_type": "code",
   "execution_count": 124,
   "id": "f7c2a20c",
   "metadata": {},
   "outputs": [],
   "source": [
    "thresh=cv.resize(thresh,(28,28))"
   ]
  },
  {
   "cell_type": "code",
   "execution_count": 125,
   "id": "654f922a",
   "metadata": {},
   "outputs": [
    {
     "data": {
      "text/plain": [
       "(28, 28, 1)"
      ]
     },
     "execution_count": 125,
     "metadata": {},
     "output_type": "execute_result"
    }
   ],
   "source": [
    "img=thresh.astype(float)/255.0\n",
    "img=np.expand_dims(img,axis=-1)\n",
    "img.shape"
   ]
  }
 ],
 "metadata": {
  "kernelspec": {
   "display_name": "Python 3 (ipykernel)",
   "language": "python",
   "name": "python3"
  },
  "language_info": {
   "codemirror_mode": {
    "name": "ipython",
    "version": 3
   },
   "file_extension": ".py",
   "mimetype": "text/x-python",
   "name": "python",
   "nbconvert_exporter": "python",
   "pygments_lexer": "ipython3",
   "version": "3.10.9"
  }
 },
 "nbformat": 4,
 "nbformat_minor": 5
}
