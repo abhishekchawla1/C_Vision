{
 "cells": [
  {
   "cell_type": "raw",
   "id": "984cb9c2",
   "metadata": {},
   "source": [
    "stopButton=widgets.ToggleButton(value=False,description='STOP',button_style='danger',ttoltip='Description',icon='square')"
   ]
  },
  {
   "cell_type": "raw",
   "id": "e1986e5a",
   "metadata": {},
   "source": [
    "def view(button):\n",
    "    cap=cv.VideoCapture(0)\n",
    "    display_handle=display(None,display_id=True)\n",
    "    i=0\n",
    "    while True:\n",
    "        _,frame=cap.read()\n",
    "        frame=cv.flip(frame,1)\n",
    "        _,frame=cv.imencode('.jpeg',frame)\n",
    "        display_handle.update(Image(data=frame.tobytes()))\n",
    "        if stopButton.value==True:\n",
    "            cap.release()\n",
    "            display_handle.update(None)"
   ]
  },
  {
   "cell_type": "raw",
   "id": "be73116d",
   "metadata": {},
   "source": [
    "display(stopButton)\n",
    "thread=threading.Thread(target=view,args=(stopButton,))\n",
    "thread.start()"
   ]
  },
  {
   "cell_type": "code",
   "execution_count": null,
   "id": "c25330fb",
   "metadata": {},
   "outputs": [],
   "source": []
  }
 ],
 "metadata": {
  "kernelspec": {
   "display_name": "Python 3 (ipykernel)",
   "language": "python",
   "name": "python3"
  },
  "language_info": {
   "codemirror_mode": {
    "name": "ipython",
    "version": 3
   },
   "file_extension": ".py",
   "mimetype": "text/x-python",
   "name": "python",
   "nbconvert_exporter": "python",
   "pygments_lexer": "ipython3",
   "version": "3.10.9"
  }
 },
 "nbformat": 4,
 "nbformat_minor": 5
}
